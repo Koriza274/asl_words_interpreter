{
 "cells": [
  {
   "cell_type": "code",
   "execution_count": 4,
   "id": "279b7c71-37b6-4c70-ac37-35d87d8a8ab3",
   "metadata": {},
   "outputs": [],
   "source": [
    "import os\n",
    "import cv2\n",
    "import mediapipe as mp\n",
    "import pandas as pd\n",
    "import numpy as np\n",
    "import tensorflow as tf\n",
    "from tensorflow.keras import layers, models\n",
    "from sklearn.preprocessing import LabelEncoder\n",
    "from tensorflow.keras.preprocessing.sequence import pad_sequences\n",
    "from tensorflow.keras.callbacks import EarlyStopping\n",
    "import pickle\n",
    "#from concurrent.futures import ThreadPoolExecutor\n",
    "#import tensorflow_hub as hub\n",
    "#import gensim.downloader as api\n",
    "#from multiprocessing import Pool"
   ]
  },
  {
   "cell_type": "code",
   "execution_count": 2,
   "id": "2c7f9d01-8f15-4735-92f0-fb8ff42f4f91",
   "metadata": {},
   "outputs": [],
   "source": [
    "# Function to collect hand landmarks from video\n",
    "def collect_landmarks(video_path):\n",
    "    cap = cv2.VideoCapture(video_path)\n",
    "    hand_landmarks_list = []\n",
    "\n",
    "    hands = mp.solutions.hands.Hands()  # Initialize MediaPipe Hands only once for efficiency\n",
    "\n",
    "    while cap.isOpened():\n",
    "        success, frame = cap.read()\n",
    "        if not success:\n",
    "            break\n",
    "\n",
    "        # Convert frame to RGB for MediaPipe processing\n",
    "        frame_rgb = cv2.cvtColor(frame, cv2.COLOR_BGR2RGB)\n",
    "\n",
    "        # Process hand landmarks\n",
    "        hand_results = hands.process(frame_rgb)\n",
    "        hand_landmarks = []\n",
    "        if hand_results.multi_hand_landmarks:\n",
    "            for hand_landmarks_obj in hand_results.multi_hand_landmarks:\n",
    "                # Extract x, y, z coordinates for each landmark\n",
    "                hand_landmarks.extend([lm.x for lm in hand_landmarks_obj.landmark])\n",
    "                hand_landmarks.extend([lm.y for lm in hand_landmarks_obj.landmark])\n",
    "                hand_landmarks.extend([lm.z for lm in hand_landmarks_obj.landmark])\n",
    "            # If only one hand is detected, fill the rest with 63 zeros\n",
    "            if len(hand_results.multi_hand_landmarks) == 1:\n",
    "                hand_landmarks.extend([0] * (21 * 3))\n",
    "        else:\n",
    "            # Fill with 126 zeros if no hands are detected (assuming 21 landmarks per hand with x, y, z for each)\n",
    "            hand_landmarks = [0] * (21 * 3 * 2)\n",
    "        \n",
    "        hand_landmarks_list.append(hand_landmarks)\n",
    "\n",
    "    cap.release()\n",
    "    hands.close()  # Close MediaPipe Hands to release resources\n",
    "    return hand_landmarks_list"
   ]
  },
  {
   "cell_type": "code",
   "execution_count": 5,
   "id": "9d216f06-bac0-474e-bd0e-f7e8e13ad0d2",
   "metadata": {},
   "outputs": [],
   "source": [
    "# Function to process each video file\n",
    "def process_video(video_file):\n",
    "    if video_file.endswith(\".mp4\"):\n",
    "        # Extract the word from the video file name\n",
    "        video_path = os.path.join(VIDEOS_DIR, video_file)\n",
    "        #word = video_file.split('-')[1].split('.mp4')[0].replace('seed', '').strip()\n",
    "        word = ''.join(filter(str.isalpha, video_file.split('-')[1].split('.mp4')[0])).replace('seed', '').strip()\n",
    "        print(video_path)\n",
    "\n",
    "        # Collect hand landmarks for the entire video\n",
    "        hand_landmarks = [landmark for landmark in collect_landmarks(video_path) if len(landmark) > 0]\n",
    "\n",
    "        # Return the landmarks and the associated word\n",
    "        return {\n",
    "            'word': word,\n",
    "            'hand_landmarks': hand_landmarks\n",
    "        }"
   ]
  },
  {
   "cell_type": "code",
   "execution_count": null,
   "id": "ba3b5e1b-6dcc-4495-a9ae-32991fb440d9",
   "metadata": {
    "scrolled": true
   },
   "outputs": [],
   "source": [
    "# Directory containing videos\n",
    "VIDEOS_DIR = \"D:/Words_dataset/ASL_Citizen/videos\"\n",
    "\n",
    "# Iterate over all videos in the \"videos\" directory sequentially\n",
    "video_files = [video_file for video_file in os.listdir(VIDEOS_DIR) if video_file.endswith(\".mp4\")]\n",
    "\n",
    "counter = 0\n",
    "landmarks_dataset = []\n",
    "for video_file in video_files:\n",
    "    #if counter >= 200:\n",
    "    #    break\n",
    "    counter += 1\n",
    "    result = process_video(video_file)\n",
    "    landmarks_dataset.append(result)\n",
    "    print(counter)"
   ]
  },
  {
   "cell_type": "code",
   "execution_count": null,
   "id": "4ed96967-bc42-42cd-8351-12c59a66cfe5",
   "metadata": {},
   "outputs": [],
   "source": [
    "# Save the small dataset to a file\n",
    "with open(\"word_landmarks_dataset_hands_small.pkl\", \"wb\") as f:\n",
    "    pickle.dump(landmarks_dataset, f)"
   ]
  },
  {
   "cell_type": "code",
   "execution_count": 24,
   "id": "d130b36d-65b2-46b5-837f-8d7fe16f4cfb",
   "metadata": {},
   "outputs": [],
   "source": [
    "# Load the small dataset from the file\n",
    "with open(\"word_landmarks_dataset_hands_small.pkl\", \"rb\") as f:\n",
    "    landmarks_dataset = pickle.load(f)"
   ]
  },
  {
   "cell_type": "code",
   "execution_count": 7,
   "id": "3ec096dd-50c3-4d3c-abad-7c2ce8602a2e",
   "metadata": {
    "scrolled": true
   },
   "outputs": [
    {
     "name": "stdout",
     "output_type": "stream",
     "text": [
      "['CASTLE', 'POLICEMAN', 'PARTY', 'CHERRY', 'RABBIT', 'CARBATTERY', 'TWINS', 'CASTLE', 'CASTLE', 'CASTLE', 'DOG', 'DOG', 'BABY', 'HIPPO', 'CASTLE', 'RABBIT', 'ROAR', 'WINDMILL', 'BABY', 'CASTLE', 'PILLOW', 'JUMPROPE', 'SMELLMONEY', 'REALSICK', 'CASTLE', 'SMELLMONEY', 'HIPPO', 'CASTLE', 'ROAR', 'DOG', 'SMELLMONEY', 'WINDMILL', 'ROAR', 'POLICEMAN', 'WINDMILL', 'REALSICK', 'ROAR', 'WINDMILL', 'CARBATTERY', 'CASTLE', 'CHERRY', 'SMELLMONEY', 'PILLOW', 'PARTY', 'DOG', 'DOG', 'PILLOW', 'CASTLE', 'POLICEMAN', 'CASTLE', 'CASTLE', 'CARBATTERY', 'BABY', 'CASTLE', 'ROAR', 'REALSICK', 'POLICEMAN', 'WINDMILL', 'REALSICK', 'WINDMILL', 'POLICEMAN', 'CASTLE', 'CASTLE', 'WINDMILL', 'CHERRY', 'RABBIT', 'WINDMILL', 'POLICEMAN', 'SMELLMONEY', 'PILLOW', 'REALSICK', 'CHERRY', 'DOG', 'DOG', 'JUMPROPE', 'CASTLE', 'CARBATTERY', 'ROAR', 'DOG', 'CASTLE', 'ROAR', 'CARBATTERY', 'PARTY', 'WINDMILL', 'WINDMILL', 'SMELLMONEY', 'BABY', 'WINDMILL', 'PILLOW', 'ROAR', 'CASTLE', 'CARBATTERY', 'CHERRY', 'CHERRY', 'POLICEMAN', 'REALSICK', 'POLICEMAN', 'WINDMILL', 'TWINS', 'CASTLE', 'BABY', 'CASTLE', 'RABBIT', 'REALSICK', 'SMELLMONEY', 'DOG', 'BABY', 'DOG', 'POLICEMAN', 'RABBIT', 'RABBIT', 'CHERRY', 'WINDMILL', 'WINDMILL', 'CHERRY', 'BABY', 'PARTY', 'PILLOW', 'CASTLE', 'PILLOW', 'PILLOW', 'HIPPO', 'CASTLE', 'PARTY', 'BABY', 'SMELLMONEY', 'PILLOW', 'REALSICK', 'CASTLE', 'CASTLE', 'CHERRY', 'CARBATTERY', 'DOG', 'POLICEMAN', 'DOG', 'PILLOW', 'HIPPO', 'CARBATTERY', 'POLICEMAN', 'TWINS', 'DOG', 'REALSICK', 'DOG', 'RABBIT', 'WINDMILL', 'WINDMILL', 'CASTLE', 'CASTLE', 'PILLOW', 'CARBATTERY', 'PILLOW', 'CASTLE', 'REALSICK', 'POLICEMAN', 'PARTY', 'CARBATTERY', 'RABBIT', 'PILLOW', 'CASTLE', 'WINDMILL', 'PILLOW', 'DOG', 'WINDMILL', 'DOG', 'RABBIT', 'DOG', 'PILLOW', 'PILLOW', 'CASTLE', 'PILLOW', 'CHERRY', 'ROAR', 'DOG', 'WINDMILL', 'BABY', 'CASTLE', 'POLICEMAN', 'PARTY', 'CARBATTERY', 'RABBIT', 'CARBATTERY', 'HIPPO', 'CASTLE', 'DOG', 'DOG', 'TWINS', 'DOG', 'WINDMILL', 'DOG', 'PILLOW', 'DOG', 'RABBIT', 'PILLOW', 'SMELLMONEY', 'DOG', 'SMELLMONEY', 'DOG', 'WINDMILL', 'CASTLE', 'ROAR', 'PARTY', 'HIPPO', 'PILLOW', 'DOG', 'REALSICK', 'SMELLMONEY', 'REALSICK', 'CASTLE', 'ROAR', 'HIPPO', 'PILLOW', 'PILLOW', 'POLICEMAN', 'CARBATTERY', 'RABBIT', 'WINDMILL', 'POLICEMAN', 'SMELLMONEY', 'HIPPO', 'BABY', 'JUMPROPE', 'TWINS', 'BABY', 'DOG', 'WINDMILL', 'WINDMILL', 'CASTLE', 'RABBIT', 'JUMPROPE', 'RABBIT', 'HIPPO', 'POLICEMAN', 'WINDMILL', 'CASTLE', 'RABBIT', 'POLICEMAN', 'HIPPO', 'PILLOW', 'PILLOW', 'BABY', 'CASTLE', 'PILLOW', 'CASTLE', 'BABY', 'CHERRY', 'CHERRY', 'DOG', 'JUMPROPE', 'CHERRY', 'WINDMILL', 'PILLOW', 'DOG', 'HIPPO', 'BABY', 'WINDMILL', 'BABY', 'BABY', 'PILLOW', 'SMELLMONEY', 'SMELLMONEY', 'DOG', 'HIPPO', 'CASTLE', 'DOG', 'TWINS', 'HIPPO', 'PARTY', 'JUMPROPE', 'RABBIT', 'REALSICK', 'DOG', 'HIPPO', 'CASTLE', 'WINDMILL', 'PARTY', 'POLICEMAN', 'ROAR', 'DOG', 'WINDMILL', 'HIPPO', 'DOG', 'WINDMILL', 'CASTLE', 'DOG', 'WINDMILL', 'DOG', 'PILLOW', 'WINDMILL', 'DOG', 'CHERRY', 'HIPPO', 'POLICEMAN', 'POLICEMAN', 'SMELLMONEY', 'WINDMILL', 'CASTLE', 'REALSICK', 'REALSICK', 'RABBIT', 'JUMPROPE', 'ROAR', 'REALSICK', 'REALSICK', 'ROAR', 'POLICEMAN', 'DOG', 'DOG', 'SMELLMONEY', 'TWINS', 'WINDMILL', 'WINDMILL', 'PILLOW', 'CHERRY', 'DOG', 'CASTLE', 'PILLOW', 'CHERRY', 'HIPPO', 'PILLOW', 'HIPPO', 'PILLOW', 'JUMPROPE', 'TWINS', 'DOG', 'TWINS', 'JUMPROPE', 'CASTLE', 'CASTLE', 'BABY', 'CASTLE', 'CHERRY', 'HIPPO', 'RABBIT', 'REALSICK', 'DOG', 'PILLOW', 'PILLOW', 'DOG', 'SMELLMONEY', 'WINDMILL', 'CASTLE', 'CASTLE', 'BABY', 'DOG', 'PILLOW', 'CHERRY', 'ROAR', 'WINDMILL', 'TWINS', 'JUMPROPE', 'WINDMILL', 'REALSICK', 'BABY', 'HIPPO', 'PILLOW', 'CASTLE', 'RABBIT', 'PARTY', 'DOG', 'RABBIT', 'CASTLE', 'CHERRY', 'REALSICK', 'ROAR', 'CARBATTERY', 'RABBIT', 'CASTLE', 'BABY', 'HIPPO', 'PARTY', 'WINDMILL', 'CASTLE', 'CASTLE', 'DOG', 'DOG', 'SMELLMONEY', 'CASTLE', 'DOG', 'PILLOW', 'RABBIT', 'DOG', 'DOG', 'DOG', 'JUMPROPE', 'DOG', 'ROAR', 'HIPPO', 'CASTLE', 'PILLOW', 'POLICEMAN', 'PILLOW', 'DOG', 'CHERRY', 'CASTLE', 'DOG', 'PARTY', 'CASTLE', 'WINDMILL', 'HIPPO', 'CARBATTERY', 'BABY', 'PILLOW', 'CASTLE', 'CASTLE', 'ROAR', 'ROAR', 'CASTLE', 'POLICEMAN', 'RABBIT', 'CHERRY', 'DOG', 'SMELLMONEY', 'PILLOW', 'JUMPROPE', 'CARBATTERY', 'DOG', 'JUMPROPE', 'BABY', 'POLICEMAN', 'WINDMILL', 'DOG', 'WINDMILL', 'HIPPO', 'TWINS', 'TWINS', 'PILLOW', 'WINDMILL', 'PARTY', 'CASTLE', 'CASTLE', 'BABY', 'PILLOW', 'DOG', 'JUMPROPE', 'HIPPO', 'PILLOW', 'RABBIT', 'REALSICK', 'PARTY', 'PARTY', 'CASTLE', 'CASTLE', 'JUMPROPE', 'WINDMILL', 'PILLOW', 'CARBATTERY', 'CASTLE', 'TWINS', 'CARBATTERY', 'CARBATTERY', 'PILLOW', 'CASTLE', 'SMELLMONEY', 'RABBIT', 'SMELLMONEY', 'JUMPROPE', 'BABY', 'CHERRY', 'PILLOW', 'CARBATTERY', 'CASTLE', 'DOG', 'WINDMILL', 'DOG', 'CARBATTERY', 'POLICEMAN', 'CASTLE', 'CASTLE', 'DOG', 'DOG', 'CASTLE', 'TWINS', 'JUMPROPE', 'DOG', 'SMELLMONEY', 'PILLOW', 'CARBATTERY', 'ROAR', 'CARBATTERY', 'DOG', 'WINDMILL', 'WINDMILL', 'SMELLMONEY', 'DOG', 'CARBATTERY', 'BABY', 'CASTLE', 'PILLOW', 'WINDMILL', 'POLICEMAN', 'ROAR', 'REALSICK', 'POLICEMAN', 'REALSICK', 'CASTLE', 'WINDMILL', 'PILLOW', 'PARTY', 'DOG', 'ROAR', 'REALSICK', 'CARBATTERY', 'TWINS', 'CASTLE', 'CHERRY', 'CARBATTERY', 'JUMPROPE', 'JUMPROPE', 'CHERRY', 'HIPPO', 'CHERRY', 'JUMPROPE', 'PILLOW', 'SMELLMONEY', 'ROAR', 'REALSICK', 'BABY', 'TWINS', 'ROAR', 'DOG', 'WINDMILL', 'POLICEMAN', 'CASTLE', 'JUMPROPE', 'PARTY', 'DOG', 'RABBIT', 'TWINS', 'CASTLE', 'BABY', 'DOG', 'SMELLMONEY', 'WINDMILL', 'PARTY', 'HIPPO', 'CHERRY', 'DOG', 'SMELLMONEY', 'WINDMILL', 'CASTLE', 'PILLOW', 'REALSICK', 'PILLOW', 'CASTLE', 'TWINS', 'CASTLE', 'CASTLE', 'JUMPROPE', 'RABBIT', 'JUMPROPE', 'POLICEMAN', 'CASTLE', 'WINDMILL', 'PILLOW', 'HIPPO', 'PILLOW', 'CASTLE', 'TWINS', 'CARBATTERY', 'JUMPROPE', 'REALSICK', 'CASTLE', 'TWINS', 'JUMPROPE', 'CARBATTERY', 'PARTY', 'JUMPROPE', 'DOG', 'DOG', 'WINDMILL', 'BABY', 'CHERRY', 'JUMPROPE', 'WINDMILL', 'CASTLE', 'SMELLMONEY', 'HIPPO', 'CASTLE', 'CASTLE', 'CASTLE', 'PILLOW', 'RABBIT', 'ROAR', 'WINDMILL', 'SMELLMONEY', 'DOG', 'CARBATTERY', 'ROAR', 'WINDMILL', 'SMELLMONEY', 'PARTY', 'RABBIT', 'CHERRY', 'JUMPROPE', 'REALSICK', 'BABY', 'TWINS', 'REALSICK', 'PILLOW', 'TWINS', 'DOG', 'ROAR', 'CHERRY', 'CARBATTERY', 'PILLOW', 'ROAR', 'JUMPROPE', 'TWINS', 'HIPPO', 'ROAR', 'CASTLE', 'CASTLE', 'RABBIT', 'CARBATTERY', 'SMELLMONEY', 'CASTLE', 'PILLOW', 'DOG', 'PARTY', 'REALSICK', 'POLICEMAN', 'CASTLE', 'WINDMILL', 'BABY', 'PILLOW']\n"
     ]
    }
   ],
   "source": [
    "words = [data['word'] for data in landmarks_dataset]\n",
    "print(words)"
   ]
  },
  {
   "cell_type": "code",
   "execution_count": 25,
   "id": "9972f598-8afe-43d4-b912-9a261b1874bd",
   "metadata": {
    "scrolled": true
   },
   "outputs": [],
   "source": [
    "# Parameters\n",
    "max_sequence_length = 100  # Set a maximum sequence length\n",
    "feature_size = 126  # Assuming 21 hand landmarks * 3 = 63\n",
    "\n",
    "# Step 2: Prepare and Preprocess the Data\n",
    "X, y = [], []\n",
    "for data in landmarks_dataset:\n",
    "    hand_lms, word = data['hand_landmarks'], data['word']\n",
    "    \n",
    "    # Normalize and pad/truncate sequences to a fixed length\n",
    "    sequence = np.array([np.array(landmark, dtype=np.float32) for landmark in hand_lms if len(landmark) == feature_size], dtype=np.float32)\n",
    "    #print(sequence.shape)\n",
    "    if len(sequence) > max_sequence_length:\n",
    "        sequence = sequence[:max_sequence_length]\n",
    "    else:\n",
    "        pad_width = max_sequence_length - len(sequence)\n",
    "        sequence = np.pad(sequence, ((0, pad_width), (0, 0)), 'constant')\n",
    "    \n",
    "    # Ensure the sequence has the correct shape\n",
    "    X.append(sequence)\n",
    "    y.append(word)\n",
    "\n",
    "# Convert X and y to numpy arrays\n",
    "X = np.array(X, dtype=np.float32)"
   ]
  },
  {
   "cell_type": "code",
   "execution_count": 26,
   "id": "c19a3974-2f5d-46bd-9710-43345f67aa64",
   "metadata": {},
   "outputs": [],
   "source": [
    "# Label encoding for the words\n",
    "y = np.array(y).tolist()  # Convert numpy array to list of strings\n",
    "#print(y)\n",
    "#y = [str(label) for label in y]  # Ensure all labels are strings\n",
    "y = [\"Unknown\" if (not isinstance(label, str) or len(label) == 0 or pd.isna(label)) else str(label) for label in y]\n",
    "label_encoder = tf.keras.preprocessing.text.Tokenizer()\n",
    "label_encoder.fit_on_texts(y)\n",
    "y = label_encoder.texts_to_sequences(y)\n",
    "y = [label[0] for label in y]  # Flatten the list of lists\n",
    "#print(y)\n",
    "y = tf.keras.utils.to_categorical(y, num_classes=len(label_encoder.word_index) + 1)"
   ]
  },
  {
   "cell_type": "code",
   "execution_count": 10,
   "id": "b40ad07d-f6b7-4bc3-b898-50548eb8eac1",
   "metadata": {},
   "outputs": [
    {
     "name": "stdout",
     "output_type": "stream",
     "text": [
      "CASTLE: 89\n",
      "POLICEMAN: 30\n",
      "PARTY: 22\n",
      "CHERRY: 29\n",
      "RABBIT: 30\n",
      "CARBATTERY: 31\n",
      "TWINS: 23\n",
      "DOG: 75\n",
      "BABY: 30\n",
      "HIPPO: 30\n",
      "ROAR: 29\n",
      "WINDMILL: 58\n",
      "PILLOW: 60\n",
      "JUMPROPE: 29\n",
      "SMELLMONEY: 30\n",
      "REALSICK: 30\n"
     ]
    }
   ],
   "source": [
    "from collections import Counter\n",
    "\n",
    "# Extract all words (labels) from the dataset\n",
    "all_words = [data['word'] for data in landmarks_dataset]\n",
    "\n",
    "# Count occurrences of each word\n",
    "word_counts = Counter(all_words)\n",
    "\n",
    "# Print the counts for each word\n",
    "for word, count in word_counts.items():\n",
    "    print(f\"{word}: {count}\")\n"
   ]
  },
  {
   "cell_type": "code",
   "execution_count": 11,
   "id": "38ee8218-48ff-44c2-8dff-17261a8b1c23",
   "metadata": {},
   "outputs": [
    {
     "data": {
      "image/png": "[encoded data removed]",
      "text/plain": [
       "<Figure size 1000x600 with 1 Axes>"
      ]
     },
     "metadata": {},
     "output_type": "display_data"
    }
   ],
   "source": [
    "import matplotlib.pyplot as plt\n",
    "\n",
    "# Plot the class distribution\n",
    "plt.figure(figsize=(10, 6))\n",
    "plt.bar(word_counts.keys(), word_counts.values())\n",
    "plt.xlabel('Words')\n",
    "plt.ylabel('Frequency')\n",
    "plt.title('Class Distribution')\n",
    "plt.xticks(rotation=45)\n",
    "plt.show()"
   ]
  },
  {
   "cell_type": "code",
   "execution_count": 27,
   "id": "59397942-2beb-48ea-9b54-318910611a42",
   "metadata": {},
   "outputs": [],
   "source": [
    "from sklearn.model_selection import train_test_split\n",
    "\n",
    "X_train, X_test, y_train, y_test = train_test_split(X, y, test_size=0.2, random_state=42)"
   ]
  },
  {
   "cell_type": "code",
   "execution_count": 28,
   "id": "7bbf2afd-e4d1-47e0-9c89-34e15216fefa",
   "metadata": {},
   "outputs": [
    {
     "name": "stdout",
     "output_type": "stream",
     "text": [
      "Epoch 1/1000\n"
     ]
    },
    {
     "name": "stderr",
     "output_type": "stream",
     "text": [
      "/home/robert/.pyenv/versions/3.10.6/envs/sign_language_interpreter/lib/python3.10/site-packages/keras/src/layers/core/input_layer.py:26: UserWarning: Argument `input_shape` is deprecated. Use `shape` instead.\n",
      "  warnings.warn(\n"
     ]
    },
    {
     "name": "stdout",
     "output_type": "stream",
     "text": [
      "\u001b[1m55/55\u001b[0m \u001b[32m━━━━━━━━━━━━━━━━━━━━\u001b[0m\u001b[37m\u001b[0m \u001b[1m3s\u001b[0m 25ms/step - accuracy: 0.1082 - loss: 2.8018 - val_accuracy: 0.1489 - val_loss: 2.7201\n",
      "Epoch 2/1000\n",
      "\u001b[1m55/55\u001b[0m \u001b[32m━━━━━━━━━━━━━━━━━━━━\u001b[0m\u001b[37m\u001b[0m \u001b[1m1s\u001b[0m 18ms/step - accuracy: 0.2069 - loss: 2.6189 - val_accuracy: 0.2394 - val_loss: 2.5178\n",
      "Epoch 3/1000\n",
      "\u001b[1m55/55\u001b[0m \u001b[32m━━━━━━━━━━━━━━━━━━━━\u001b[0m\u001b[37m\u001b[0m \u001b[1m1s\u001b[0m 19ms/step - accuracy: 0.2449 - loss: 2.4349 - val_accuracy: 0.2234 - val_loss: 2.4828\n",
      "Epoch 4/1000\n",
      "\u001b[1m55/55\u001b[0m \u001b[32m━━━━━━━━━━━━━━━━━━━━\u001b[0m\u001b[37m\u001b[0m \u001b[1m1s\u001b[0m 19ms/step - accuracy: 0.2432 - loss: 2.3983 - val_accuracy: 0.2340 - val_loss: 2.4069\n",
      "Epoch 5/1000\n",
      "\u001b[1m55/55\u001b[0m \u001b[32m━━━━━━━━━━━━━━━━━━━━\u001b[0m\u001b[37m\u001b[0m \u001b[1m1s\u001b[0m 19ms/step - accuracy: 0.2541 - loss: 2.3358 - val_accuracy: 0.2394 - val_loss: 2.3898\n",
      "Epoch 6/1000\n",
      "\u001b[1m55/55\u001b[0m \u001b[32m━━━━━━━━━━━━━━━━━━━━\u001b[0m\u001b[37m\u001b[0m \u001b[1m1s\u001b[0m 19ms/step - accuracy: 0.2929 - loss: 2.2204 - val_accuracy: 0.2287 - val_loss: 2.3776\n",
      "Epoch 7/1000\n",
      "\u001b[1m55/55\u001b[0m \u001b[32m━━━━━━━━━━━━━━━━━━━━\u001b[0m\u001b[37m\u001b[0m \u001b[1m1s\u001b[0m 21ms/step - accuracy: 0.2673 - loss: 2.2576 - val_accuracy: 0.2447 - val_loss: 2.3169\n",
      "Epoch 8/1000\n",
      "\u001b[1m55/55\u001b[0m \u001b[32m━━━━━━━━━━━━━━━━━━━━\u001b[0m\u001b[37m\u001b[0m \u001b[1m1s\u001b[0m 20ms/step - accuracy: 0.2744 - loss: 2.2475 - val_accuracy: 0.2287 - val_loss: 2.2852\n",
      "Epoch 9/1000\n",
      "\u001b[1m55/55\u001b[0m \u001b[32m━━━━━━━━━━━━━━━━━━━━\u001b[0m\u001b[37m\u001b[0m \u001b[1m1s\u001b[0m 20ms/step - accuracy: 0.2656 - loss: 2.1591 - val_accuracy: 0.2394 - val_loss: 2.2814\n",
      "Epoch 10/1000\n",
      "\u001b[1m55/55\u001b[0m \u001b[32m━━━━━━━━━━━━━━━━━━━━\u001b[0m\u001b[37m\u001b[0m \u001b[1m1s\u001b[0m 21ms/step - accuracy: 0.2796 - loss: 2.1806 - val_accuracy: 0.2553 - val_loss: 2.2095\n",
      "Epoch 11/1000\n",
      "\u001b[1m55/55\u001b[0m \u001b[32m━━━━━━━━━━━━━━━━━━━━\u001b[0m\u001b[37m\u001b[0m \u001b[1m1s\u001b[0m 19ms/step - accuracy: 0.3098 - loss: 2.0809 - val_accuracy: 0.2713 - val_loss: 2.1544\n",
      "Epoch 12/1000\n",
      "\u001b[1m55/55\u001b[0m \u001b[32m━━━━━━━━━━━━━━━━━━━━\u001b[0m\u001b[37m\u001b[0m \u001b[1m1s\u001b[0m 20ms/step - accuracy: 0.3093 - loss: 2.0301 - val_accuracy: 0.2553 - val_loss: 2.1267\n",
      "Epoch 13/1000\n",
      "\u001b[1m55/55\u001b[0m \u001b[32m━━━━━━━━━━━━━━━━━━━━\u001b[0m\u001b[37m\u001b[0m \u001b[1m1s\u001b[0m 20ms/step - accuracy: 0.3380 - loss: 1.9730 - val_accuracy: 0.2926 - val_loss: 2.0423\n",
      "Epoch 14/1000\n",
      "\u001b[1m55/55\u001b[0m \u001b[32m━━━━━━━━━━━━━━━━━━━━\u001b[0m\u001b[37m\u001b[0m \u001b[1m1s\u001b[0m 22ms/step - accuracy: 0.3870 - loss: 1.8684 - val_accuracy: 0.2819 - val_loss: 2.0328\n",
      "Epoch 15/1000\n",
      "\u001b[1m55/55\u001b[0m \u001b[32m━━━━━━━━━━━━━━━━━━━━\u001b[0m\u001b[37m\u001b[0m \u001b[1m1s\u001b[0m 21ms/step - accuracy: 0.3406 - loss: 1.8965 - val_accuracy: 0.3138 - val_loss: 1.9591\n",
      "Epoch 16/1000\n",
      "\u001b[1m55/55\u001b[0m \u001b[32m━━━━━━━━━━━━━━━━━━━━\u001b[0m\u001b[37m\u001b[0m \u001b[1m1s\u001b[0m 22ms/step - accuracy: 0.4333 - loss: 1.7074 - val_accuracy: 0.2979 - val_loss: 1.9495\n",
      "Epoch 17/1000\n",
      "\u001b[1m55/55\u001b[0m \u001b[32m━━━━━━━━━━━━━━━━━━━━\u001b[0m\u001b[37m\u001b[0m \u001b[1m1s\u001b[0m 21ms/step - accuracy: 0.3382 - loss: 1.8462 - val_accuracy: 0.3404 - val_loss: 1.8901\n",
      "Epoch 18/1000\n",
      "\u001b[1m55/55\u001b[0m \u001b[32m━━━━━━━━━━━━━━━━━━━━\u001b[0m\u001b[37m\u001b[0m \u001b[1m1s\u001b[0m 18ms/step - accuracy: 0.3970 - loss: 1.7223 - val_accuracy: 0.3404 - val_loss: 1.9001\n",
      "Epoch 19/1000\n",
      "\u001b[1m55/55\u001b[0m \u001b[32m━━━━━━━━━━━━━━━━━━━━\u001b[0m\u001b[37m\u001b[0m \u001b[1m1s\u001b[0m 21ms/step - accuracy: 0.4291 - loss: 1.7172 - val_accuracy: 0.3830 - val_loss: 1.8368\n",
      "Epoch 20/1000\n",
      "\u001b[1m55/55\u001b[0m \u001b[32m━━━━━━━━━━━━━━━━━━━━\u001b[0m\u001b[37m\u001b[0m \u001b[1m1s\u001b[0m 19ms/step - accuracy: 0.4313 - loss: 1.6251 - val_accuracy: 0.3883 - val_loss: 1.8470\n",
      "Epoch 21/1000\n",
      "\u001b[1m55/55\u001b[0m \u001b[32m━━━━━━━━━━━━━━━━━━━━\u001b[0m\u001b[37m\u001b[0m \u001b[1m1s\u001b[0m 19ms/step - accuracy: 0.5386 - loss: 1.5036 - val_accuracy: 0.3404 - val_loss: 1.8890\n",
      "Epoch 22/1000\n",
      "\u001b[1m55/55\u001b[0m \u001b[32m━━━━━━━━━━━━━━━━━━━━\u001b[0m\u001b[37m\u001b[0m \u001b[1m1s\u001b[0m 17ms/step - accuracy: 0.4790 - loss: 1.5898 - val_accuracy: 0.3404 - val_loss: 2.0124\n",
      "Epoch 23/1000\n",
      "\u001b[1m55/55\u001b[0m \u001b[32m━━━━━━━━━━━━━━━━━━━━\u001b[0m\u001b[37m\u001b[0m \u001b[1m1s\u001b[0m 18ms/step - accuracy: 0.4595 - loss: 1.5753 - val_accuracy: 0.3670 - val_loss: 1.7808\n",
      "Epoch 24/1000\n",
      "\u001b[1m55/55\u001b[0m \u001b[32m━━━━━━━━━━━━━━━━━━━━\u001b[0m\u001b[37m\u001b[0m \u001b[1m1s\u001b[0m 19ms/step - accuracy: 0.5010 - loss: 1.4370 - val_accuracy: 0.3723 - val_loss: 1.8259\n",
      "Epoch 25/1000\n",
      "\u001b[1m55/55\u001b[0m \u001b[32m━━━━━━━━━━━━━━━━━━━━\u001b[0m\u001b[37m\u001b[0m \u001b[1m1s\u001b[0m 19ms/step - accuracy: 0.5409 - loss: 1.3793 - val_accuracy: 0.3936 - val_loss: 1.7862\n",
      "Epoch 26/1000\n",
      "\u001b[1m55/55\u001b[0m \u001b[32m━━━━━━━━━━━━━━━━━━━━\u001b[0m\u001b[37m\u001b[0m \u001b[1m1s\u001b[0m 19ms/step - accuracy: 0.5481 - loss: 1.3715 - val_accuracy: 0.4096 - val_loss: 1.9341\n",
      "Epoch 27/1000\n",
      "\u001b[1m55/55\u001b[0m \u001b[32m━━━━━━━━━━━━━━━━━━━━\u001b[0m\u001b[37m\u001b[0m \u001b[1m1s\u001b[0m 18ms/step - accuracy: 0.5496 - loss: 1.4126 - val_accuracy: 0.4415 - val_loss: 1.7119\n",
      "Epoch 28/1000\n",
      "\u001b[1m55/55\u001b[0m \u001b[32m━━━━━━━━━━━━━━━━━━━━\u001b[0m\u001b[37m\u001b[0m \u001b[1m1s\u001b[0m 17ms/step - accuracy: 0.5893 - loss: 1.2753 - val_accuracy: 0.4149 - val_loss: 1.8347\n",
      "Epoch 29/1000\n",
      "\u001b[1m55/55\u001b[0m \u001b[32m━━━━━━━━━━━━━━━━━━━━\u001b[0m\u001b[37m\u001b[0m \u001b[1m1s\u001b[0m 18ms/step - accuracy: 0.5523 - loss: 1.2548 - val_accuracy: 0.4309 - val_loss: 1.7587\n",
      "Epoch 30/1000\n",
      "\u001b[1m55/55\u001b[0m \u001b[32m━━━━━━━━━━━━━━━━━━━━\u001b[0m\u001b[37m\u001b[0m \u001b[1m1s\u001b[0m 19ms/step - accuracy: 0.5729 - loss: 1.2548 - val_accuracy: 0.4468 - val_loss: 1.6266\n",
      "Epoch 31/1000\n",
      "\u001b[1m55/55\u001b[0m \u001b[32m━━━━━━━━━━━━━━━━━━━━\u001b[0m\u001b[37m\u001b[0m \u001b[1m1s\u001b[0m 17ms/step - accuracy: 0.6678 - loss: 1.0984 - val_accuracy: 0.4947 - val_loss: 1.6968\n",
      "Epoch 32/1000\n",
      "\u001b[1m55/55\u001b[0m \u001b[32m━━━━━━━━━━━━━━━━━━━━\u001b[0m\u001b[37m\u001b[0m \u001b[1m1s\u001b[0m 17ms/step - accuracy: 0.6237 - loss: 1.1546 - val_accuracy: 0.4894 - val_loss: 1.6158\n",
      "Epoch 33/1000\n",
      "\u001b[1m55/55\u001b[0m \u001b[32m━━━━━━━━━━━━━━━━━━━━\u001b[0m\u001b[37m\u001b[0m \u001b[1m1s\u001b[0m 18ms/step - accuracy: 0.6642 - loss: 1.0315 - val_accuracy: 0.4840 - val_loss: 1.7316\n",
      "Epoch 34/1000\n",
      "\u001b[1m55/55\u001b[0m \u001b[32m━━━━━━━━━━━━━━━━━━━━\u001b[0m\u001b[37m\u001b[0m \u001b[1m1s\u001b[0m 21ms/step - accuracy: 0.6544 - loss: 1.0534 - val_accuracy: 0.5213 - val_loss: 1.5373\n",
      "Epoch 35/1000\n",
      "\u001b[1m55/55\u001b[0m \u001b[32m━━━━━━━━━━━━━━━━━━━━\u001b[0m\u001b[37m\u001b[0m \u001b[1m1s\u001b[0m 18ms/step - accuracy: 0.6720 - loss: 1.0300 - val_accuracy: 0.5160 - val_loss: 1.6377\n",
      "Epoch 36/1000\n",
      "\u001b[1m55/55\u001b[0m \u001b[32m━━━━━━━━━━━━━━━━━━━━\u001b[0m\u001b[37m\u001b[0m \u001b[1m1s\u001b[0m 17ms/step - accuracy: 0.7004 - loss: 0.9032 - val_accuracy: 0.4043 - val_loss: 1.7599\n",
      "Epoch 37/1000\n",
      "\u001b[1m55/55\u001b[0m \u001b[32m━━━━━━━━━━━━━━━━━━━━\u001b[0m\u001b[37m\u001b[0m \u001b[1m1s\u001b[0m 18ms/step - accuracy: 0.7313 - loss: 0.8958 - val_accuracy: 0.5160 - val_loss: 1.5958\n",
      "Epoch 38/1000\n",
      "\u001b[1m55/55\u001b[0m \u001b[32m━━━━━━━━━━━━━━━━━━━━\u001b[0m\u001b[37m\u001b[0m \u001b[1m1s\u001b[0m 17ms/step - accuracy: 0.6700 - loss: 0.9680 - val_accuracy: 0.5266 - val_loss: 1.6850\n",
      "Epoch 39/1000\n",
      "\u001b[1m55/55\u001b[0m \u001b[32m━━━━━━━━━━━━━━━━━━━━\u001b[0m\u001b[37m\u001b[0m \u001b[1m1s\u001b[0m 17ms/step - accuracy: 0.7428 - loss: 0.7924 - val_accuracy: 0.5053 - val_loss: 1.5003\n",
      "Epoch 40/1000\n",
      "\u001b[1m55/55\u001b[0m \u001b[32m━━━━━━━━━━━━━━━━━━━━\u001b[0m\u001b[37m\u001b[0m \u001b[1m1s\u001b[0m 19ms/step - accuracy: 0.7768 - loss: 0.7183 - val_accuracy: 0.5213 - val_loss: 1.5109\n",
      "Epoch 41/1000\n",
      "\u001b[1m55/55\u001b[0m \u001b[32m━━━━━━━━━━━━━━━━━━━━\u001b[0m\u001b[37m\u001b[0m \u001b[1m1s\u001b[0m 18ms/step - accuracy: 0.7951 - loss: 0.6908 - val_accuracy: 0.5426 - val_loss: 1.5035\n",
      "Epoch 42/1000\n",
      "\u001b[1m55/55\u001b[0m \u001b[32m━━━━━━━━━━━━━━━━━━━━\u001b[0m\u001b[37m\u001b[0m \u001b[1m1s\u001b[0m 17ms/step - accuracy: 0.7803 - loss: 0.6586 - val_accuracy: 0.5798 - val_loss: 1.4873\n",
      "Epoch 43/1000\n",
      "\u001b[1m55/55\u001b[0m \u001b[32m━━━━━━━━━━━━━━━━━━━━\u001b[0m\u001b[37m\u001b[0m \u001b[1m1s\u001b[0m 17ms/step - accuracy: 0.7152 - loss: 0.7169 - val_accuracy: 0.5426 - val_loss: 1.4510\n",
      "Epoch 44/1000\n",
      "\u001b[1m55/55\u001b[0m \u001b[32m━━━━━━━━━━━━━━━━━━━━\u001b[0m\u001b[37m\u001b[0m \u001b[1m1s\u001b[0m 18ms/step - accuracy: 0.7547 - loss: 0.7620 - val_accuracy: 0.6223 - val_loss: 1.4755\n",
      "Epoch 45/1000\n",
      "\u001b[1m55/55\u001b[0m \u001b[32m━━━━━━━━━━━━━━━━━━━━\u001b[0m\u001b[37m\u001b[0m \u001b[1m1s\u001b[0m 20ms/step - accuracy: 0.8354 - loss: 0.6286 - val_accuracy: 0.5160 - val_loss: 1.7082\n",
      "Epoch 46/1000\n",
      "\u001b[1m55/55\u001b[0m \u001b[32m━━━━━━━━━━━━━━━━━━━━\u001b[0m\u001b[37m\u001b[0m \u001b[1m1s\u001b[0m 18ms/step - accuracy: 0.7561 - loss: 0.7371 - val_accuracy: 0.4734 - val_loss: 1.7072\n",
      "Epoch 47/1000\n",
      "\u001b[1m55/55\u001b[0m \u001b[32m━━━━━━━━━━━━━━━━━━━━\u001b[0m\u001b[37m\u001b[0m \u001b[1m1s\u001b[0m 20ms/step - accuracy: 0.8202 - loss: 0.6176 - val_accuracy: 0.6011 - val_loss: 1.5376\n",
      "Epoch 48/1000\n",
      "\u001b[1m55/55\u001b[0m \u001b[32m━━━━━━━━━━━━━━━━━━━━\u001b[0m\u001b[37m\u001b[0m \u001b[1m1s\u001b[0m 18ms/step - accuracy: 0.8479 - loss: 0.4803 - val_accuracy: 0.5904 - val_loss: 1.5177\n",
      "Epoch 49/1000\n",
      "\u001b[1m55/55\u001b[0m \u001b[32m━━━━━━━━━━━━━━━━━━━━\u001b[0m\u001b[37m\u001b[0m \u001b[1m1s\u001b[0m 17ms/step - accuracy: 0.8276 - loss: 0.5016 - val_accuracy: 0.5904 - val_loss: 1.5613\n",
      "Epoch 50/1000\n",
      "\u001b[1m55/55\u001b[0m \u001b[32m━━━━━━━━━━━━━━━━━━━━\u001b[0m\u001b[37m\u001b[0m \u001b[1m1s\u001b[0m 17ms/step - accuracy: 0.8295 - loss: 0.5116 - val_accuracy: 0.5851 - val_loss: 1.5393\n",
      "Epoch 51/1000\n",
      "\u001b[1m55/55\u001b[0m \u001b[32m━━━━━━━━━━━━━━━━━━━━\u001b[0m\u001b[37m\u001b[0m \u001b[1m1s\u001b[0m 19ms/step - accuracy: 0.8852 - loss: 0.4058 - val_accuracy: 0.5319 - val_loss: 1.6047\n",
      "Epoch 52/1000\n",
      "\u001b[1m55/55\u001b[0m \u001b[32m━━━━━━━━━━━━━━━━━━━━\u001b[0m\u001b[37m\u001b[0m \u001b[1m1s\u001b[0m 17ms/step - accuracy: 0.8488 - loss: 0.4641 - val_accuracy: 0.5957 - val_loss: 1.5859\n",
      "Epoch 53/1000\n",
      "\u001b[1m55/55\u001b[0m \u001b[32m━━━━━━━━━━━━━━━━━━━━\u001b[0m\u001b[37m\u001b[0m \u001b[1m1s\u001b[0m 18ms/step - accuracy: 0.8845 - loss: 0.3694 - val_accuracy: 0.5372 - val_loss: 1.7390\n",
      "Epoch 54/1000\n",
      "\u001b[1m55/55\u001b[0m \u001b[32m━━━━━━━━━━━━━━━━━━━━\u001b[0m\u001b[37m\u001b[0m \u001b[1m1s\u001b[0m 19ms/step - accuracy: 0.8327 - loss: 0.4668 - val_accuracy: 0.5798 - val_loss: 1.6092\n",
      "Epoch 55/1000\n",
      "\u001b[1m55/55\u001b[0m \u001b[32m━━━━━━━━━━━━━━━━━━━━\u001b[0m\u001b[37m\u001b[0m \u001b[1m1s\u001b[0m 19ms/step - accuracy: 0.8527 - loss: 0.4323 - val_accuracy: 0.6277 - val_loss: 1.5684\n",
      "Epoch 56/1000\n",
      "\u001b[1m55/55\u001b[0m \u001b[32m━━━━━━━━━━━━━━━━━━━━\u001b[0m\u001b[37m\u001b[0m \u001b[1m1s\u001b[0m 18ms/step - accuracy: 0.8697 - loss: 0.4295 - val_accuracy: 0.5798 - val_loss: 1.5910\n",
      "Epoch 57/1000\n",
      "\u001b[1m55/55\u001b[0m \u001b[32m━━━━━━━━━━━━━━━━━━━━\u001b[0m\u001b[37m\u001b[0m \u001b[1m1s\u001b[0m 17ms/step - accuracy: 0.8686 - loss: 0.3886 - val_accuracy: 0.6064 - val_loss: 1.5492\n",
      "Epoch 58/1000\n",
      "\u001b[1m55/55\u001b[0m \u001b[32m━━━━━━━━━━━━━━━━━━━━\u001b[0m\u001b[37m\u001b[0m \u001b[1m1s\u001b[0m 18ms/step - accuracy: 0.8684 - loss: 0.4074 - val_accuracy: 0.5638 - val_loss: 1.6176\n"
     ]
    }
   ],
   "source": [
    "# Step 3: Choose and Build the Model\n",
    "from tensorflow.keras.optimizers import Adam\n",
    "\n",
    "input_shape = X.shape[1:]  # (max_sequence_length, num_features)\n",
    "#input_shape = (max_sequence_length, 162)\n",
    "model = models.Sequential([\n",
    "    layers.InputLayer(input_shape=input_shape),\n",
    "    #layers.Masking(mask_value=0.0),  # Mask values of 0\n",
    "    layers.Conv1D(filters=128, kernel_size=5, activation='relu'),\n",
    "    layers.MaxPooling1D(pool_size=2),\n",
    "    layers.Conv1D(filters=256, kernel_size=5, activation='relu'),\n",
    "    layers.MaxPooling1D(pool_size=2),\n",
    "    #layers.Masking(mask_value=0.0),\n",
    "    layers.LSTM(256, return_sequences=True),\n",
    "    layers.LSTM(128, return_sequences=False),\n",
    "    layers.Dense(512, activation='relu'),\n",
    "    layers.Dropout(0.5),\n",
    "    layers.Dense(len(label_encoder.word_index) + 1, activation='softmax')\n",
    "])\n",
    "\n",
    "\n",
    "# Compile the model with optimizer, loss, and metrics\n",
    "#model.compile(optimizer='adam', loss='categorical_crossentropy', metrics=['accuracy'])\n",
    "model.compile(optimizer=Adam(learning_rate=0.0001), loss='categorical_crossentropy', metrics=['accuracy'])\n",
    "\n",
    "\n",
    "# Step 4: Train the Model\n",
    "early_stopping = EarlyStopping(monitor='val_loss', patience=15)\n",
    "model.fit(X, y, epochs=1000, validation_split=0.3, batch_size=8, callbacks=[early_stopping])\n",
    "\n",
    "# Save the trained model\n",
    "model.save(\"sign_language_model_small.keras\")"
   ]
  },
  {
   "cell_type": "code",
   "execution_count": 15,
   "id": "97d1d7d5-d0ae-480f-ad85-941a39caad1e",
   "metadata": {},
   "outputs": [],
   "source": [
    "# Step 5: Real-time Classification\n",
    "# Load the trained model and the saved label encoder\n",
    "model = tf.keras.models.load_model(\"sign_language_model_small.keras\")"
   ]
  },
  {
   "cell_type": "code",
   "execution_count": 29,
   "id": "b592d2e2-00ee-4081-8585-82bc6a5aa0c8",
   "metadata": {},
   "outputs": [
    {
     "name": "stdout",
     "output_type": "stream",
     "text": [
      "\u001b[1m4/4\u001b[0m \u001b[32m━━━━━━━━━━━━━━━━━━━━\u001b[0m\u001b[37m\u001b[0m \u001b[1m0s\u001b[0m 87ms/step\n",
      "Accuracy: 0.83\n"
     ]
    },
    {
     "data": {
      "image/png": "[encoded data removed]",
      "text/plain": [
       "<Figure size 1000x800 with 2 Axes>"
      ]
     },
     "metadata": {},
     "output_type": "display_data"
    }
   ],
   "source": [
    "# Step 6: Evaluate the Model\n",
    "from sklearn.metrics import confusion_matrix, classification_report, accuracy_score\n",
    "import seaborn as sns\n",
    "import matplotlib.pyplot as plt\n",
    "\n",
    "# Evaluate on the test set\n",
    "y_pred = model.predict(X_test)\n",
    "y_pred_classes = np.argmax(y_pred, axis=1)\n",
    "y_true = np.argmax(y_test, axis=1)\n",
    "\n",
    "# Calculate Accuracy\n",
    "accuracy = accuracy_score(y_true, y_pred_classes)\n",
    "print(f'Accuracy: {accuracy:.2f}')\n",
    "\n",
    "# Confusion Matrix\n",
    "conf_matrix = confusion_matrix(y_true, y_pred_classes)\n",
    "plt.figure(figsize=(10, 8))\n",
    "sns.heatmap(conf_matrix, annot=True, cmap='Blues', fmt='g')\n",
    "plt.xlabel('Predicted Labels')\n",
    "plt.ylabel('True Labels')\n",
    "plt.title('Confusion Matrix')\n",
    "plt.show()\n"
   ]
  },
  {
   "cell_type": "code",
   "execution_count": 30,
   "id": "e5845df1-8892-4979-93b2-8ee454a37096",
   "metadata": {},
   "outputs": [
    {
     "name": "stderr",
     "output_type": "stream",
     "text": [
      "I0000 00:00:1731850840.423851   44748 gl_context_egl.cc:85] Successfully initialized EGL. Major : 1 Minor: 5\n",
      "I0000 00:00:1731850840.445429   51667 gl_context.cc:357] GL version: 3.1 (OpenGL ES 3.1 Mesa 23.2.1-1ubuntu3.1~22.04.2), renderer: D3D12 (NVIDIA Quadro RTX 3000)\n"
     ]
    }
   ],
   "source": [
    "import cv2\n",
    "import numpy as np\n",
    "import imageio\n",
    "import mediapipe as mp\n",
    "import tensorflow as tf\n",
    "\n",
    "# Initialize MediaPipe modules for hand detection\n",
    "hands = mp.solutions.hands.Hands(static_image_mode=False, max_num_hands=2, min_detection_confidence=0.5)\n",
    "drawing_utils = mp.solutions.drawing_utils\n",
    "\n",
    "# Parameters\n",
    "max_sequence_length = 100  # Set a maximum sequence length\n",
    "feature_size = 126  # Assuming 21 hand landmarks * 3 = 63\n",
    "\n",
    "# Real-time classification function\n",
    "def real_time_classification_gif(video_path, output_gif_path):\n",
    "    cap = cv2.VideoCapture(video_path)\n",
    "    hand_landmarks_list = []\n",
    "    frames = []\n",
    "\n",
    "    while cap.isOpened():\n",
    "        success, frame = cap.read()\n",
    "        if not success:\n",
    "            break\n",
    "\n",
    "        # Convert frame to RGB for MediaPipe processing\n",
    "        frame_rgb = cv2.cvtColor(frame, cv2.COLOR_BGR2RGB)\n",
    "\n",
    "        # Process hand landmarks\n",
    "        hand_results = hands.process(frame_rgb)\n",
    "        hand_landmarks = []\n",
    "        if hand_results.multi_hand_landmarks:\n",
    "            for hand_landmarks_obj in hand_results.multi_hand_landmarks:\n",
    "                # Extract x, y, z coordinates for each landmark\n",
    "                hand_landmarks.extend([lm.x for lm in hand_landmarks_obj.landmark])\n",
    "                hand_landmarks.extend([lm.y for lm in hand_landmarks_obj.landmark])\n",
    "                hand_landmarks.extend([lm.z for lm in hand_landmarks_obj.landmark])\n",
    "            # If only one hand is detected, fill the rest with 63 zeros\n",
    "            if len(hand_results.multi_hand_landmarks) == 1:\n",
    "                hand_landmarks.extend([0] * (21 * 3))\n",
    "\n",
    "            # Draw hand landmarks on the frame\n",
    "            for hand_landmarks_obj in hand_results.multi_hand_landmarks:\n",
    "                drawing_utils.draw_landmarks(frame, hand_landmarks_obj, mp.solutions.hands.HAND_CONNECTIONS)\n",
    "                \n",
    "        else:\n",
    "            # Fill with 126 zeros if no hands are detected\n",
    "            hand_landmarks = [0] * (21 * 3 * 2)\n",
    "\n",
    "        hand_landmarks_list.append(hand_landmarks)\n",
    "\n",
    "        # Show the frame with landmarks\n",
    "        frames.append(cv2.cvtColor(frame, cv2.COLOR_BGR2RGB))  # Save frame for GIF creation\n",
    "\n",
    "        cv2.imshow('Video with Landmarks', frame)\n",
    "        if cv2.waitKey(1) & 0xFF == ord('q'):\n",
    "            break\n",
    "\n",
    "    cap.release()\n",
    "    cv2.destroyAllWindows()\n",
    "\n",
    "    # Prepare the sequence for prediction\n",
    "    sequence = np.array([np.array(landmark, dtype=np.float32) for landmark in hand_landmarks_list if len(landmark) == feature_size], dtype=np.float32)\n",
    "    if len(sequence) > max_sequence_length:\n",
    "        sequence = sequence[:max_sequence_length]\n",
    "    else:\n",
    "        pad_width = max_sequence_length - len(sequence)\n",
    "        sequence = np.pad(sequence, ((0, pad_width), (0, 0)), 'constant')\n",
    "\n",
    "    # Predict the word\n",
    "    sequence = np.expand_dims(sequence, axis=0)  # Add batch dimension\n",
    "    prediction = model.predict(sequence)\n",
    "    predicted_label = np.argmax(prediction, axis=-1)\n",
    "\n",
    "    # Convert label index to word\n",
    "    label_encoder = tf.keras.preprocessing.text.Tokenizer()\n",
    "    label_encoder.fit_on_texts([data['word'] for data in landmarks_dataset])\n",
    "    word_index = label_encoder.index_word\n",
    "    predicted_word = word_index.get(predicted_label[0], \"Unknown\")\n",
    "\n",
    "    # Add the predicted word to each frame and save as a GIF\n",
    "    gif_frames = []\n",
    "    for frame in frames:\n",
    "        frame_with_text = frame.copy()\n",
    "        cv2.putText(frame_with_text, f'Predicted Word: {predicted_word}', (50, 50), cv2.FONT_HERSHEY_SIMPLEX, 1, (255, 255, 255), 2, cv2.LINE_AA)\n",
    "        gif_frames.append(frame_with_text)\n",
    "\n",
    "    # Save as GIF\n",
    "    imageio.mimsave(output_gif_path, gif_frames, fps=10)\n",
    "\n",
    "    return predicted_word\n"
   ]
  },
  {
   "cell_type": "code",
   "execution_count": 31,
   "id": "83c12020-1aa9-4113-85ed-9b1e6bd1be06",
   "metadata": {},
   "outputs": [
    {
     "name": "stdout",
     "output_type": "stream",
     "text": [
      "\u001b[1m1/1\u001b[0m \u001b[32m━━━━━━━━━━━━━━━━━━━━\u001b[0m\u001b[37m\u001b[0m \u001b[1m0s\u001b[0m 18ms/step\n",
      "Predicted Word: cherry\n"
     ]
    }
   ],
   "source": [
    "video_path = '17753124009107357-CHERRY 2.mp4'\n",
    "predicted_word = real_time_classification_gif(video_path, 'output_video.gif')\n",
    "print(f'Predicted Word: {predicted_word}')"
   ]
  }
 ],
 "metadata": {
  "kernelspec": {
   "display_name": "Python 3 (ipykernel)",
   "language": "python",
   "name": "python3"
  },
  "language_info": {
   "codemirror_mode": {
    "name": "ipython",
    "version": 3
   },
   "file_extension": ".py",
   "mimetype": "text/x-python",
   "name": "python",
   "nbconvert_exporter": "python",
   "pygments_lexer": "ipython3",
   "version": "3.10.6"
  },
  "toc": {
   "base_numbering": 1,
   "nav_menu": {},
   "number_sections": true,
   "sideBar": true,
   "skip_h1_title": false,
   "title_cell": "Table of Contents",
   "title_sidebar": "Contents",
   "toc_cell": false,
   "toc_position": {},
   "toc_section_display": true,
   "toc_window_display": false
  }
 },
 "nbformat": 4,
 "nbformat_minor": 5
}
