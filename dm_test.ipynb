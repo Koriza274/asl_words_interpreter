{
 "cells": [
  {
   "cell_type": "code",
   "execution_count": 175,
   "metadata": {},
   "outputs": [],
   "source": [
    "import pandas as pd\n",
    "import numpy as np\n",
    "import mediapipe as mp\n",
    "import cv2\n",
    "import yt_dlp\n",
    "from matplotlib import pyplot as plt"
   ]
  },
  {
   "cell_type": "code",
   "execution_count": 177,
   "metadata": {},
   "outputs": [],
   "source": [
    "def download_video(video_url):\n",
    "    ydl_opts = {\n",
    "        'format': 'bestvideo',  # Get the best video and audio stream\n",
    "        'noplaylist': True,\n",
    "        'quiet': True,\n",
    "        \"outtmpl\":'raw_data/video_2.mp4'\n",
    "\n",
    "    }\n",
    "    with yt_dlp.YoutubeDL(ydl_opts) as ydl:\n",
    "        ydl.download([video_url])\n"
   ]
  },
  {
   "cell_type": "code",
   "execution_count": 179,
   "metadata": {},
   "outputs": [
    {
     "name": "stdout",
     "output_type": "stream",
     "text": [
      "                             \r"
     ]
    }
   ],
   "source": [
    "download_video(\"https://www.youtube.com/watch?v=C37R_Ix8-qs\")"
   ]
  },
  {
   "cell_type": "code",
   "execution_count": 180,
   "metadata": {},
   "outputs": [],
   "source": [
    "mp_drawing = mp.solutions.drawing_utils\n",
    "mp_drawing_styles = mp.solutions.drawing_styles\n",
    "mp_hands = mp.solutions.hands\n",
    "hands = mp_hands.Hands(max_num_hands=2,\n",
    "    min_detection_confidence=0.5,  # Minimum confidence for detection\n",
    "    min_tracking_confidence=0.5    # Minimum confidence for tracking\n",
    ")"
   ]
  },
  {
   "cell_type": "code",
   "execution_count": null,
   "metadata": {},
   "outputs": [
    {
     "name": "stdout",
     "output_type": "stream",
     "text": [
      "no landmarks found\n",
      "no landmarks found\n",
      "no landmarks found\n",
      "no landmarks found\n",
      "no landmarks found\n",
      "no landmarks found\n",
      "no landmarks found\n",
      "no landmarks found\n",
      "no landmarks found\n",
      "no landmarks found\n",
      "no landmarks found\n",
      "no landmarks found\n",
      "no landmarks found\n",
      "no landmarks found\n",
      "no landmarks found\n",
      "no landmarks found\n",
      "landmarks found\n",
      "landmarks found\n",
      "landmarks found\n",
      "landmarks found\n",
      "landmarks found\n",
      "landmarks found\n",
      "landmarks found\n",
      "landmarks found\n",
      "landmarks found\n",
      "landmarks found\n",
      "landmarks found\n",
      "landmarks found\n",
      "landmarks found\n",
      "landmarks found\n",
      "landmarks found\n",
      "landmarks found\n",
      "landmarks found\n",
      "landmarks found\n",
      "landmarks found\n",
      "landmarks found\n",
      "landmarks found\n",
      "landmarks found\n",
      "landmarks found\n",
      "landmarks found\n",
      "landmarks found\n",
      "landmarks found\n",
      "landmarks found\n",
      "landmarks found\n",
      "landmarks found\n",
      "landmarks found\n",
      "landmarks found\n",
      "landmarks found\n",
      "landmarks found\n",
      "landmarks found\n",
      "landmarks found\n",
      "landmarks found\n",
      "landmarks found\n",
      "landmarks found\n",
      "landmarks found\n",
      "landmarks found\n",
      "landmarks found\n",
      "landmarks found\n",
      "landmarks found\n",
      "landmarks found\n",
      "landmarks found\n",
      "landmarks found\n",
      "landmarks found\n",
      "landmarks found\n",
      "landmarks found\n",
      "landmarks found\n",
      "landmarks found\n",
      "landmarks found\n",
      "landmarks found\n",
      "no landmarks found\n",
      "no landmarks found\n",
      "no landmarks found\n",
      "no landmarks found\n",
      "no landmarks found\n",
      "no landmarks found\n",
      "no landmarks found\n",
      "no landmarks found\n",
      "no landmarks found\n",
      "no landmarks found\n",
      "no landmarks found\n",
      "no landmarks found\n",
      "no landmarks found\n",
      "no landmarks found\n",
      "no landmarks found\n",
      "no landmarks found\n",
      "Failed to grab frame\n"
     ]
    }
   ],
   "source": [
    "\n",
    "cap = cv2.VideoCapture(\"raw_data/video_2.mp4\")\n",
    "landmarks_all = []\n",
    "\n",
    "\n",
    "while cap.isOpened():\n",
    "    ret, frame = cap.read()\n",
    "    if not ret:\n",
    "        print(\"Failed to grab frame\")\n",
    "        break\n",
    "\n",
    "    # Flip the frame horizontally for a later mirror effect\n",
    "    frame = cv2.flip(frame, 1)\n",
    "\n",
    "    #frame = cv2.resize(frame, (1200, 1000))\n",
    "\n",
    "    # Convert the frame to RGB (required by MediaPipe)\n",
    "    rgb_frame = cv2.cvtColor(frame, cv2.COLOR_BGR2RGB)\n",
    "\n",
    "    # Process the frame and get hand landmarks\n",
    "    results = hands.process(rgb_frame)\n",
    "\n",
    "    # If landmarks are detected, draw them on the frame\n",
    "    if results.multi_hand_landmarks:\n",
    "\n",
    "        for landmarks in results.multi_hand_landmarks:\n",
    "            #make it numpy and append the list\n",
    "            hand_landmarks_array = np.array([(lm.x, lm.y, lm.z) for lm in landmarks.landmark])\n",
    "            landmarks_all.append(hand_landmarks_array)\n",
    "            # Draw landmarks\n",
    "            mp_drawing.draw_landmarks(frame, landmarks, mp_hands.HAND_CONNECTIONS)\n",
    "        print('landmarks found')\n",
    "    else:\n",
    "        print('no landmarks found')\n",
    "\n",
    "    cv2.imshow(\"Hand Landmarks\", frame)\n",
    "\n",
    "    cv2.waitKey(200)\n",
    "\n",
    "\n",
    "# Release resources\n",
    "#cap.release()\n",
    "#cv2.destroyAllWindows()"
   ]
  },
  {
   "cell_type": "code",
   "execution_count": 185,
   "metadata": {},
   "outputs": [
    {
     "data": {
      "text/plain": [
       "102"
      ]
     },
     "execution_count": 185,
     "metadata": {},
     "output_type": "execute_result"
    }
   ],
   "source": [
    "len(landmarks_all)"
   ]
  }
 ],
 "metadata": {
  "kernelspec": {
   "display_name": "asl_words_interpreter",
   "language": "python",
   "name": "python3"
  },
  "language_info": {
   "codemirror_mode": {
    "name": "ipython",
    "version": 3
   },
   "file_extension": ".py",
   "mimetype": "text/x-python",
   "name": "python",
   "nbconvert_exporter": "python",
   "pygments_lexer": "ipython3",
   "version": "3.10.6"
  }
 },
 "nbformat": 4,
 "nbformat_minor": 2
}
