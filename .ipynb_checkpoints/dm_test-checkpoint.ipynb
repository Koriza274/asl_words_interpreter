{
 "cells": [
  {
   "cell_type": "code",
   "execution_count": 5,
   "metadata": {},
   "outputs": [
    {
     "name": "stderr",
     "output_type": "stream",
     "text": [
      "2024-11-11 23:41:52.794342: I external/local_xla/xla/tsl/cuda/cudart_stub.cc:32] Could not find cuda drivers on your machine, GPU will not be used.\n",
      "2024-11-11 23:41:53.050727: I external/local_xla/xla/tsl/cuda/cudart_stub.cc:32] Could not find cuda drivers on your machine, GPU will not be used.\n",
      "2024-11-11 23:41:53.299890: E external/local_xla/xla/stream_executor/cuda/cuda_fft.cc:477] Unable to register cuFFT factory: Attempting to register factory for plugin cuFFT when one has already been registered\n",
      "WARNING: All log messages before absl::InitializeLog() is called are written to STDERR\n",
      "E0000 00:00:1731357713.539782    2435 cuda_dnn.cc:8310] Unable to register cuDNN factory: Attempting to register factory for plugin cuDNN when one has already been registered\n",
      "E0000 00:00:1731357713.597383    2435 cuda_blas.cc:1418] Unable to register cuBLAS factory: Attempting to register factory for plugin cuBLAS when one has already been registered\n",
      "2024-11-11 23:41:54.066932: I tensorflow/core/platform/cpu_feature_guard.cc:210] This TensorFlow binary is optimized to use available CPU instructions in performance-critical operations.\n",
      "To enable the following instructions: AVX2 FMA, in other operations, rebuild TensorFlow with the appropriate compiler flags.\n"
     ]
    }
   ],
   "source": [
    "import pandas as pd\n",
    "import numpy as np\n",
    "import mediapipe as mp\n",
    "import cv2\n",
    "import yt_dlp\n",
    "from matplotlib import pyplot as plt"
   ]
  },
  {
   "cell_type": "code",
   "execution_count": null,
   "metadata": {},
   "outputs": [],
   "source": [
    "#NOT USED NOW\n",
    "\n",
    "\n",
    "def download_video(video_url):\n",
    "    ydl_opts = {\n",
    "        'format': 'bestvideo',  # Get the best video and audio stream\n",
    "        'noplaylist': True,\n",
    "        'quiet': True,\n",
    "        \"outtmpl\":'raw_data/video_2.mp4'\n",
    "\n",
    "    }\n",
    "    with yt_dlp.YoutubeDL(ydl_opts) as ydl:\n",
    "        ydl.download([video_url])\n"
   ]
  },
  {
   "cell_type": "code",
   "execution_count": 179,
   "metadata": {},
   "outputs": [
    {
     "name": "stdout",
     "output_type": "stream",
     "text": [
      "                             \r"
     ]
    }
   ],
   "source": [
    "download_video(\"https://www.youtube.com/watch?v=C37R_Ix8-qs\")"
   ]
  },
  {
   "cell_type": "code",
   "execution_count": null,
   "metadata": {},
   "outputs": [
    {
     "name": "stdout",
     "output_type": "stream",
     "text": [
      "[youtube] Extracting URL: https://www.youtube.com/watch?v=C37R_Ix8-qs\n",
      "[youtube] C37R_Ix8-qs: Downloading webpage\n",
      "[youtube] C37R_Ix8-qs: Downloading ios player API JSON\n",
      "[youtube] C37R_Ix8-qs: Downloading mweb player API JSON\n",
      "[youtube] C37R_Ix8-qs: Downloading player 6f0e2ed6\n",
      "[youtube] C37R_Ix8-qs: Downloading m3u8 information\n"
     ]
    }
   ],
   "source": [
    "#pip install cap_from_youtube\n",
    "#to get cv2.VideoCapture from youtube url directly -    WORSE QUALIT OF LANDMARK DETECTION THAN WHEN DOWNLOADED (frames lost(?))\n",
    "\n",
    "from cap_from_youtube import cap_from_youtube\n",
    "\n",
    "cap = cap_from_youtube(\"https://www.youtube.com/watch?v=C37R_Ix8-qs\",'best')"
   ]
  },
  {
   "cell_type": "code",
   "execution_count": null,
   "metadata": {},
   "outputs": [
    {
     "name": "stderr",
     "output_type": "stream",
     "text": [
      "INFO: Created TensorFlow Lite XNNPACK delegate for CPU.\n"
     ]
    }
   ],
   "source": [
    "mp_drawing = mp.solutions.drawing_utils\n",
    "mp_drawing_styles = mp.solutions.drawing_styles\n",
    "mp_hands = mp.solutions.hands\n",
    "hands = mp_hands.Hands(max_num_hands=2,\n",
    "    min_detection_confidence=0.5,  # Minimum confidence for detection\n",
    "    min_tracking_confidence=0.5    # Minimum confidence for tracking\n",
    ")"
   ]
  },
  {
   "cell_type": "code",
   "execution_count": 9,
   "metadata": {},
   "outputs": [
    {
     "name": "stdout",
     "output_type": "stream",
     "text": [
      "no landmarks found\n",
      "no landmarks found\n",
      "no landmarks found\n",
      "no landmarks found\n",
      "no landmarks found\n",
      "no landmarks found\n",
      "no landmarks found\n",
      "no landmarks found\n",
      "no landmarks found\n",
      "no landmarks found\n",
      "no landmarks found\n",
      "no landmarks found\n",
      "no landmarks found\n",
      "no landmarks found\n",
      "no landmarks found\n",
      "no landmarks found\n",
      "landmarks found\n",
      "landmarks found\n",
      "landmarks found\n",
      "landmarks found\n",
      "landmarks found\n",
      "landmarks found\n",
      "landmarks found\n",
      "landmarks found\n",
      "landmarks found\n",
      "landmarks found\n",
      "landmarks found\n",
      "landmarks found\n",
      "landmarks found\n",
      "landmarks found\n",
      "landmarks found\n",
      "landmarks found\n",
      "landmarks found\n",
      "landmarks found\n",
      "landmarks found\n",
      "landmarks found\n",
      "landmarks found\n",
      "landmarks found\n",
      "landmarks found\n"
     ]
    },
    {
     "name": "stderr",
     "output_type": "stream",
     "text": [
      "[tls @ 0x560e49520fc0] IO error: Connection reset by peer\n",
      "[NULL @ 0x560e442f2700] Invalid NAL unit size (2434 > 159).\n",
      "[NULL @ 0x560e442f2700] missing picture in access unit with size 163\n",
      "[h264 @ 0x560e449f8f40] Invalid NAL unit size (2434 > 159).\n",
      "[h264 @ 0x560e449f8f40] Error splitting the input into NAL units.\n"
     ]
    },
    {
     "name": "stdout",
     "output_type": "stream",
     "text": [
      "landmarks found\n"
     ]
    },
    {
     "name": "stderr",
     "output_type": "stream",
     "text": [
      "[mov,mp4,m4a,3gp,3g2,mj2 @ 0x560e4497a4c0] stream 0, offset 0x3d055: partial file\n"
     ]
    },
    {
     "name": "stdout",
     "output_type": "stream",
     "text": [
      "landmarks found\n",
      "landmarks found\n",
      "landmarks found\n",
      "landmarks found\n",
      "landmarks found\n",
      "landmarks found\n",
      "Failed to grab frame\n"
     ]
    },
    {
     "name": "stderr",
     "output_type": "stream",
     "text": [
      "[mov,mp4,m4a,3gp,3g2,mj2 @ 0x560e4497a4c0] stream 0, offset 0x3dbd9: partial file\n"
     ]
    }
   ],
   "source": [
    "\n",
    "cap = cap\n",
    "landmarks_all = []\n",
    "\n",
    "\n",
    "while cap.isOpened():\n",
    "    ret, frame = cap.read()\n",
    "    if not ret:\n",
    "        print(\"Failed to grab frame\")\n",
    "        break\n",
    "\n",
    "    # Flip the frame horizontally for a later mirror effect\n",
    "    frame = cv2.flip(frame, 1)\n",
    "\n",
    "    #frame = cv2.resize(frame, (1200, 1000))\n",
    "\n",
    "    # Convert the frame to RGB (required by MediaPipe)\n",
    "    rgb_frame = cv2.cvtColor(frame, cv2.COLOR_BGR2RGB)\n",
    "\n",
    "    # Process the frame and get hand landmarks\n",
    "    results = hands.process(rgb_frame)\n",
    "\n",
    "    # If landmarks are detected, draw them on the frame\n",
    "    if results.multi_hand_landmarks:\n",
    "\n",
    "        for landmarks in results.multi_hand_landmarks:\n",
    "            #make it numpy and append the list\n",
    "            hand_landmarks_array = np.array([(lm.x, lm.y, lm.z) for lm in landmarks.landmark])\n",
    "            landmarks_all.append(hand_landmarks_array)\n",
    "            # Draw landmarks\n",
    "            mp_drawing.draw_landmarks(frame, landmarks, mp_hands.HAND_CONNECTIONS)\n",
    "        print('landmarks found')\n",
    "    else:\n",
    "        print('no landmarks found')\n",
    "\n",
    "    cv2.imshow(\"Hand Landmarks\", frame)\n",
    "\n",
    "    cv2.waitKey(200)\n",
    "\n",
    "\n",
    "# Release resources\n",
    "#cap.release()\n",
    "#cv2.destroyAllWindows()"
   ]
  },
  {
   "cell_type": "code",
   "execution_count": 12,
   "metadata": {},
   "outputs": [
    {
     "data": {
      "text/plain": [
       "(21, 3)"
      ]
     },
     "execution_count": 12,
     "metadata": {},
     "output_type": "execute_result"
    }
   ],
   "source": [
    "landmarks_all[0].shape"
   ]
  },
  {
   "cell_type": "code",
   "execution_count": null,
   "metadata": {},
   "outputs": [],
   "source": []
  }
 ],
 "metadata": {
  "kernelspec": {
   "display_name": "asl_words_interpreter",
   "language": "python",
   "name": "python3"
  },
  "language_info": {
   "codemirror_mode": {
    "name": "ipython",
    "version": 3
   },
   "file_extension": ".py",
   "mimetype": "text/x-python",
   "name": "python",
   "nbconvert_exporter": "python",
   "pygments_lexer": "ipython3",
   "version": "3.10.6"
  }
 },
 "nbformat": 4,
 "nbformat_minor": 2
}
